{
 "cells": [
  {
   "cell_type": "code",
   "execution_count": 1,
   "id": "91069b8d",
   "metadata": {},
   "outputs": [
    {
     "name": "stderr",
     "output_type": "stream",
     "text": [
      "C:\\Users\\bless\\anaconda3\\Lib\\site-packages\\pandas\\core\\arrays\\masked.py:60: UserWarning: Pandas requires version '1.3.6' or newer of 'bottleneck' (version '1.3.5' currently installed).\n",
      "  from pandas.core import (\n"
     ]
    }
   ],
   "source": [
    "import pandas as pd\n",
    "import dask.dataframe as dd\n",
    "import modin.pandas as mpd\n",
    "import yaml\n",
    "import os\n",
    "import time\n",
    "import psutil\n"
   ]
  },
  {
   "cell_type": "code",
   "execution_count": 3,
   "id": "1febf66a",
   "metadata": {},
   "outputs": [
    {
     "name": "stdout",
     "output_type": "stream",
     "text": [
      "Time taken by Pandas: 44.34030270576477 seconds\n",
      "Time taken by Dask: 28.22481870651245 seconds\n"
     ]
    },
    {
     "name": "stderr",
     "output_type": "stream",
     "text": [
      "2024-12-26 23:01:29,488\tINFO worker.py:1821 -- Started a local Ray instance.\n"
     ]
    },
    {
     "ename": "RayTaskError(MemoryError)",
     "evalue": "\u001b[36mray::_deploy_ray_func()\u001b[39m (pid=22816, ip=127.0.0.1)\n  File \"python\\ray\\_raylet.pyx\", line 1879, in ray._raylet.execute_task\n  File \"C:\\Users\\bless\\anaconda3\\Lib\\site-packages\\modin\\core\\execution\\ray\\common\\engine_wrapper.py\", line 53, in _deploy_ray_func\n    result = func(*args, **kwargs)\n             ^^^^^^^^^^^^^^^^^^^^^\n  File \"C:\\Users\\bless\\anaconda3\\Lib\\site-packages\\modin\\logging\\logger_decorator.py\", line 144, in run_and_log\n    return obj(*args, **kwargs)\n           ^^^^^^^^^^^^^^^^^^^^\n  File \"C:\\Users\\bless\\anaconda3\\Lib\\site-packages\\modin\\core\\storage_formats\\pandas\\parsers.py\", line 362, in parse\n    return PandasParser.generic_parse(\n           ^^^^^^^^^^^^^^^^^^^^^^^^^^^\n  File \"C:\\Users\\bless\\anaconda3\\Lib\\site-packages\\modin\\logging\\logger_decorator.py\", line 144, in run_and_log\n    return obj(*args, **kwargs)\n           ^^^^^^^^^^^^^^^^^^^^\n  File \"C:\\Users\\bless\\anaconda3\\Lib\\site-packages\\modin\\core\\storage_formats\\pandas\\parsers.py\", line 222, in generic_parse\n    pandas_df = callback(BytesIO(to_read), **kwargs)\n                ^^^^^^^^^^^^^^^^^^^^^^^^^^^^^^^^^^^^\n  File \"C:\\Users\\bless\\anaconda3\\Lib\\site-packages\\modin\\logging\\logger_decorator.py\", line 144, in run_and_log\n    return obj(*args, **kwargs)\n           ^^^^^^^^^^^^^^^^^^^^\n  File \"C:\\Users\\bless\\anaconda3\\Lib\\site-packages\\modin\\core\\storage_formats\\pandas\\parsers.py\", line 386, in read_callback\n    return pandas.read_csv(*args, **kwargs)\n           ^^^^^^^^^^^^^^^^^^^^^^^^^^^^^^^^\n  File \"C:\\Users\\bless\\anaconda3\\Lib\\site-packages\\pandas\\io\\parsers\\readers.py\", line 1026, in read_csv\n    return _read(filepath_or_buffer, kwds)\n           ^^^^^^^^^^^^^^^^^^^^^^^^^^^^^^^\n  File \"C:\\Users\\bless\\anaconda3\\Lib\\site-packages\\pandas\\io\\parsers\\readers.py\", line 626, in _read\n    return parser.read(nrows)\n           ^^^^^^^^^^^^^^^^^^\n  File \"C:\\Users\\bless\\anaconda3\\Lib\\site-packages\\pandas\\io\\parsers\\readers.py\", line 1968, in read\n    df = DataFrame(\n         ^^^^^^^^^^\n  File \"C:\\Users\\bless\\anaconda3\\Lib\\site-packages\\pandas\\core\\frame.py\", line 778, in __init__\n    mgr = dict_to_mgr(data, index, columns, dtype=dtype, copy=copy, typ=manager)\n          ^^^^^^^^^^^^^^^^^^^^^^^^^^^^^^^^^^^^^^^^^^^^^^^^^^^^^^^^^^^^^^^^^^^^^^\n  File \"C:\\Users\\bless\\anaconda3\\Lib\\site-packages\\pandas\\core\\internals\\construction.py\", line 503, in dict_to_mgr\n    return arrays_to_mgr(arrays, columns, index, dtype=dtype, typ=typ, consolidate=copy)\n           ^^^^^^^^^^^^^^^^^^^^^^^^^^^^^^^^^^^^^^^^^^^^^^^^^^^^^^^^^^^^^^^^^^^^^^^^^^^^^\n  File \"C:\\Users\\bless\\anaconda3\\Lib\\site-packages\\pandas\\core\\internals\\construction.py\", line 152, in arrays_to_mgr\n    return create_block_manager_from_column_arrays(\n           ^^^^^^^^^^^^^^^^^^^^^^^^^^^^^^^^^^^^^^^^\n  File \"C:\\Users\\bless\\anaconda3\\Lib\\site-packages\\pandas\\core\\internals\\managers.py\", line 2139, in create_block_manager_from_column_arrays\n    blocks = _form_blocks(arrays, consolidate, refs)\n             ^^^^^^^^^^^^^^^^^^^^^^^^^^^^^^^^^^^^^^^\n  File \"C:\\Users\\bless\\anaconda3\\Lib\\site-packages\\pandas\\core\\internals\\managers.py\", line 2212, in _form_blocks\n    values, placement = _stack_arrays(list(tup_block), dtype)\n                        ^^^^^^^^^^^^^^^^^^^^^^^^^^^^^^^^^^^^^\n  File \"C:\\Users\\bless\\anaconda3\\Lib\\site-packages\\pandas\\core\\internals\\managers.py\", line 2252, in _stack_arrays\n    stacked = np.empty(shape, dtype=dtype)\n              ^^^^^^^^^^^^^^^^^^^^^^^^^^^^\nnumpy.core._exceptions._ArrayMemoryError: Unable to allocate 5.46 MiB for an array with shape (1, 715735) and data type int64",
     "output_type": "error",
     "traceback": [
      "\u001b[1;31m---------------------------------------------------------------------------\u001b[0m",
      "\u001b[1;31mRayTaskError(MemoryError)\u001b[0m                 Traceback (most recent call last)",
      "Cell \u001b[1;32mIn[3], line 20\u001b[0m\n\u001b[0;32m     18\u001b[0m \u001b[38;5;66;03m# Method 3: Modin\u001b[39;00m\n\u001b[0;32m     19\u001b[0m start_time \u001b[38;5;241m=\u001b[39m time\u001b[38;5;241m.\u001b[39mtime()\n\u001b[1;32m---> 20\u001b[0m df_modin \u001b[38;5;241m=\u001b[39m mpd\u001b[38;5;241m.\u001b[39mread_csv(file_path)\n\u001b[0;32m     21\u001b[0m end_time \u001b[38;5;241m=\u001b[39m time\u001b[38;5;241m.\u001b[39mtime()\n\u001b[0;32m     22\u001b[0m time_modin \u001b[38;5;241m=\u001b[39m end_time \u001b[38;5;241m-\u001b[39m start_time\n",
      "File \u001b[1;32m~\\anaconda3\\Lib\\site-packages\\modin\\utils.py:613\u001b[0m, in \u001b[0;36mexpanduser_path_arg.<locals>.decorator.<locals>.wrapped\u001b[1;34m(*args, **kw)\u001b[0m\n\u001b[0;32m    611\u001b[0m     \u001b[38;5;28;01melif\u001b[39;00m \u001b[38;5;28misinstance\u001b[39m(patharg, Path):\n\u001b[0;32m    612\u001b[0m         params\u001b[38;5;241m.\u001b[39marguments[argname] \u001b[38;5;241m=\u001b[39m patharg\u001b[38;5;241m.\u001b[39mexpanduser()\n\u001b[1;32m--> 613\u001b[0m     \u001b[38;5;28;01mreturn\u001b[39;00m func(\u001b[38;5;241m*\u001b[39mparams\u001b[38;5;241m.\u001b[39margs, \u001b[38;5;241m*\u001b[39m\u001b[38;5;241m*\u001b[39mparams\u001b[38;5;241m.\u001b[39mkwargs)\n\u001b[0;32m    614\u001b[0m \u001b[38;5;28;01mreturn\u001b[39;00m func(\u001b[38;5;241m*\u001b[39margs, \u001b[38;5;241m*\u001b[39m\u001b[38;5;241m*\u001b[39mkw)\n",
      "File \u001b[1;32m~\\anaconda3\\Lib\\site-packages\\modin\\logging\\logger_decorator.py:144\u001b[0m, in \u001b[0;36menable_logging.<locals>.decorator.<locals>.run_and_log\u001b[1;34m(*args, **kwargs)\u001b[0m\n\u001b[0;32m    129\u001b[0m \u001b[38;5;250m\u001b[39m\u001b[38;5;124;03m\"\"\"\u001b[39;00m\n\u001b[0;32m    130\u001b[0m \u001b[38;5;124;03mCompute function with logging if Modin logging is enabled.\u001b[39;00m\n\u001b[0;32m    131\u001b[0m \n\u001b[1;32m   (...)\u001b[0m\n\u001b[0;32m    141\u001b[0m \u001b[38;5;124;03mAny\u001b[39;00m\n\u001b[0;32m    142\u001b[0m \u001b[38;5;124;03m\"\"\"\u001b[39;00m\n\u001b[0;32m    143\u001b[0m \u001b[38;5;28;01mif\u001b[39;00m LogMode\u001b[38;5;241m.\u001b[39mget() \u001b[38;5;241m==\u001b[39m \u001b[38;5;124m\"\u001b[39m\u001b[38;5;124mdisable\u001b[39m\u001b[38;5;124m\"\u001b[39m:\n\u001b[1;32m--> 144\u001b[0m     \u001b[38;5;28;01mreturn\u001b[39;00m obj(\u001b[38;5;241m*\u001b[39margs, \u001b[38;5;241m*\u001b[39m\u001b[38;5;241m*\u001b[39mkwargs)\n\u001b[0;32m    146\u001b[0m logger \u001b[38;5;241m=\u001b[39m get_logger()\n\u001b[0;32m    147\u001b[0m logger\u001b[38;5;241m.\u001b[39mlog(log_level, start_line)\n",
      "File \u001b[1;32m~\\anaconda3\\Lib\\site-packages\\modin\\pandas\\io.py:226\u001b[0m, in \u001b[0;36mread_csv\u001b[1;34m(filepath_or_buffer, sep, delimiter, header, names, index_col, usecols, dtype, engine, converters, true_values, false_values, skipinitialspace, skiprows, skipfooter, nrows, na_values, keep_default_na, na_filter, verbose, skip_blank_lines, parse_dates, infer_datetime_format, keep_date_col, date_parser, date_format, dayfirst, cache_dates, iterator, chunksize, compression, thousands, decimal, lineterminator, quotechar, quoting, doublequote, escapechar, comment, encoding, encoding_errors, dialect, on_bad_lines, delim_whitespace, low_memory, memory_map, float_precision, storage_options, dtype_backend)\u001b[0m\n\u001b[0;32m    224\u001b[0m _, _, _, f_locals \u001b[38;5;241m=\u001b[39m inspect\u001b[38;5;241m.\u001b[39mgetargvalues(inspect\u001b[38;5;241m.\u001b[39mcurrentframe())\n\u001b[0;32m    225\u001b[0m kwargs \u001b[38;5;241m=\u001b[39m {k: v \u001b[38;5;28;01mfor\u001b[39;00m k, v \u001b[38;5;129;01min\u001b[39;00m f_locals\u001b[38;5;241m.\u001b[39mitems() \u001b[38;5;28;01mif\u001b[39;00m k \u001b[38;5;129;01min\u001b[39;00m _pd_read_csv_signature}\n\u001b[1;32m--> 226\u001b[0m \u001b[38;5;28;01mreturn\u001b[39;00m _read(\u001b[38;5;241m*\u001b[39m\u001b[38;5;241m*\u001b[39mkwargs)\n",
      "File \u001b[1;32m~\\anaconda3\\Lib\\site-packages\\modin\\pandas\\io.py:116\u001b[0m, in \u001b[0;36m_read\u001b[1;34m(**kwargs)\u001b[0m\n\u001b[0;32m    113\u001b[0m \u001b[38;5;28;01mfrom\u001b[39;00m \u001b[38;5;21;01mmodin\u001b[39;00m\u001b[38;5;21;01m.\u001b[39;00m\u001b[38;5;21;01mcore\u001b[39;00m\u001b[38;5;21;01m.\u001b[39;00m\u001b[38;5;21;01mexecution\u001b[39;00m\u001b[38;5;21;01m.\u001b[39;00m\u001b[38;5;21;01mdispatching\u001b[39;00m\u001b[38;5;21;01m.\u001b[39;00m\u001b[38;5;21;01mfactories\u001b[39;00m\u001b[38;5;21;01m.\u001b[39;00m\u001b[38;5;21;01mdispatcher\u001b[39;00m \u001b[38;5;28;01mimport\u001b[39;00m FactoryDispatcher\n\u001b[0;32m    115\u001b[0m squeeze \u001b[38;5;241m=\u001b[39m kwargs\u001b[38;5;241m.\u001b[39mpop(\u001b[38;5;124m\"\u001b[39m\u001b[38;5;124msqueeze\u001b[39m\u001b[38;5;124m\"\u001b[39m, \u001b[38;5;28;01mFalse\u001b[39;00m)\n\u001b[1;32m--> 116\u001b[0m pd_obj \u001b[38;5;241m=\u001b[39m FactoryDispatcher\u001b[38;5;241m.\u001b[39mread_csv(\u001b[38;5;241m*\u001b[39m\u001b[38;5;241m*\u001b[39mkwargs)\n\u001b[0;32m    117\u001b[0m \u001b[38;5;66;03m# This happens when `read_csv` returns a TextFileReader object for iterating through\u001b[39;00m\n\u001b[0;32m    118\u001b[0m \u001b[38;5;28;01mif\u001b[39;00m \u001b[38;5;28misinstance\u001b[39m(pd_obj, TextFileReader):\n",
      "File \u001b[1;32m~\\anaconda3\\Lib\\site-packages\\modin\\core\\execution\\dispatching\\factories\\dispatcher.py:207\u001b[0m, in \u001b[0;36mFactoryDispatcher.read_csv\u001b[1;34m(cls, **kwargs)\u001b[0m\n\u001b[0;32m    204\u001b[0m \u001b[38;5;129m@classmethod\u001b[39m\n\u001b[0;32m    205\u001b[0m \u001b[38;5;129m@_inherit_docstrings\u001b[39m(factories\u001b[38;5;241m.\u001b[39mBaseFactory\u001b[38;5;241m.\u001b[39m_read_csv)\n\u001b[0;32m    206\u001b[0m \u001b[38;5;28;01mdef\u001b[39;00m \u001b[38;5;21mread_csv\u001b[39m(\u001b[38;5;28mcls\u001b[39m, \u001b[38;5;241m*\u001b[39m\u001b[38;5;241m*\u001b[39mkwargs):\n\u001b[1;32m--> 207\u001b[0m     \u001b[38;5;28;01mreturn\u001b[39;00m \u001b[38;5;28mcls\u001b[39m\u001b[38;5;241m.\u001b[39mget_factory()\u001b[38;5;241m.\u001b[39m_read_csv(\u001b[38;5;241m*\u001b[39m\u001b[38;5;241m*\u001b[39mkwargs)\n",
      "File \u001b[1;32m~\\anaconda3\\Lib\\site-packages\\modin\\core\\execution\\dispatching\\factories\\factories.py:272\u001b[0m, in \u001b[0;36mBaseFactory._read_csv\u001b[1;34m(cls, **kwargs)\u001b[0m\n\u001b[0;32m    264\u001b[0m \u001b[38;5;129m@classmethod\u001b[39m\n\u001b[0;32m    265\u001b[0m \u001b[38;5;129m@doc\u001b[39m(\n\u001b[0;32m    266\u001b[0m     _doc_io_method_template,\n\u001b[1;32m   (...)\u001b[0m\n\u001b[0;32m    270\u001b[0m )\n\u001b[0;32m    271\u001b[0m \u001b[38;5;28;01mdef\u001b[39;00m \u001b[38;5;21m_read_csv\u001b[39m(\u001b[38;5;28mcls\u001b[39m, \u001b[38;5;241m*\u001b[39m\u001b[38;5;241m*\u001b[39mkwargs):\n\u001b[1;32m--> 272\u001b[0m     \u001b[38;5;28;01mreturn\u001b[39;00m \u001b[38;5;28mcls\u001b[39m\u001b[38;5;241m.\u001b[39mio_cls\u001b[38;5;241m.\u001b[39mread_csv(\u001b[38;5;241m*\u001b[39m\u001b[38;5;241m*\u001b[39mkwargs)\n",
      "File \u001b[1;32m~\\anaconda3\\Lib\\site-packages\\modin\\logging\\logger_decorator.py:144\u001b[0m, in \u001b[0;36menable_logging.<locals>.decorator.<locals>.run_and_log\u001b[1;34m(*args, **kwargs)\u001b[0m\n\u001b[0;32m    129\u001b[0m \u001b[38;5;250m\u001b[39m\u001b[38;5;124;03m\"\"\"\u001b[39;00m\n\u001b[0;32m    130\u001b[0m \u001b[38;5;124;03mCompute function with logging if Modin logging is enabled.\u001b[39;00m\n\u001b[0;32m    131\u001b[0m \n\u001b[1;32m   (...)\u001b[0m\n\u001b[0;32m    141\u001b[0m \u001b[38;5;124;03mAny\u001b[39;00m\n\u001b[0;32m    142\u001b[0m \u001b[38;5;124;03m\"\"\"\u001b[39;00m\n\u001b[0;32m    143\u001b[0m \u001b[38;5;28;01mif\u001b[39;00m LogMode\u001b[38;5;241m.\u001b[39mget() \u001b[38;5;241m==\u001b[39m \u001b[38;5;124m\"\u001b[39m\u001b[38;5;124mdisable\u001b[39m\u001b[38;5;124m\"\u001b[39m:\n\u001b[1;32m--> 144\u001b[0m     \u001b[38;5;28;01mreturn\u001b[39;00m obj(\u001b[38;5;241m*\u001b[39margs, \u001b[38;5;241m*\u001b[39m\u001b[38;5;241m*\u001b[39mkwargs)\n\u001b[0;32m    146\u001b[0m logger \u001b[38;5;241m=\u001b[39m get_logger()\n\u001b[0;32m    147\u001b[0m logger\u001b[38;5;241m.\u001b[39mlog(log_level, start_line)\n",
      "File \u001b[1;32m~\\anaconda3\\Lib\\site-packages\\modin\\core\\io\\file_dispatcher.py:165\u001b[0m, in \u001b[0;36mFileDispatcher.read\u001b[1;34m(cls, *args, **kwargs)\u001b[0m\n\u001b[0;32m    163\u001b[0m     \u001b[38;5;28;01mreturn\u001b[39;00m \u001b[38;5;28mcls\u001b[39m\u001b[38;5;241m.\u001b[39msingle_worker_read(fname, \u001b[38;5;241m*\u001b[39margs, reason\u001b[38;5;241m=\u001b[39m\u001b[38;5;28mstr\u001b[39m(err), \u001b[38;5;241m*\u001b[39m\u001b[38;5;241m*\u001b[39mkwargs)\n\u001b[0;32m    164\u001b[0m \u001b[38;5;66;03m# TextFileReader can also be returned from `_read`.\u001b[39;00m\n\u001b[1;32m--> 165\u001b[0m \u001b[38;5;28;01mif\u001b[39;00m \u001b[38;5;129;01mnot\u001b[39;00m AsyncReadMode\u001b[38;5;241m.\u001b[39mget() \u001b[38;5;129;01mand\u001b[39;00m \u001b[38;5;28mhasattr\u001b[39m(query_compiler, \u001b[38;5;124m\"\u001b[39m\u001b[38;5;124mdtypes\u001b[39m\u001b[38;5;124m\"\u001b[39m):\n\u001b[0;32m    166\u001b[0m     \u001b[38;5;66;03m# at the moment it is not possible to use `wait_partitions` function;\u001b[39;00m\n\u001b[0;32m    167\u001b[0m     \u001b[38;5;66;03m# in a situation where the reading function is called in a row with the\u001b[39;00m\n\u001b[0;32m    168\u001b[0m     \u001b[38;5;66;03m# same parameters, `wait_partitions` considers that we have waited for\u001b[39;00m\n\u001b[0;32m    169\u001b[0m     \u001b[38;5;66;03m# the end of remote calculations, however, when trying to materialize the\u001b[39;00m\n\u001b[0;32m    170\u001b[0m     \u001b[38;5;66;03m# received data, it is clear that the calculations have not yet ended.\u001b[39;00m\n\u001b[0;32m    171\u001b[0m     \u001b[38;5;66;03m# for example, `test_io_exp.py::test_read_evaluated_dict` is failed because of that.\u001b[39;00m\n\u001b[0;32m    172\u001b[0m     \u001b[38;5;66;03m# see #5944 for details\u001b[39;00m\n\u001b[0;32m    173\u001b[0m     _ \u001b[38;5;241m=\u001b[39m query_compiler\u001b[38;5;241m.\u001b[39mdtypes\n\u001b[0;32m    174\u001b[0m \u001b[38;5;28;01mreturn\u001b[39;00m query_compiler\n",
      "File \u001b[1;32m~\\anaconda3\\Lib\\site-packages\\modin\\core\\storage_formats\\pandas\\query_compiler.py:380\u001b[0m, in \u001b[0;36mPandasQueryCompiler.dtypes\u001b[1;34m(self)\u001b[0m\n\u001b[0;32m    378\u001b[0m \u001b[38;5;129m@property\u001b[39m\n\u001b[0;32m    379\u001b[0m \u001b[38;5;28;01mdef\u001b[39;00m \u001b[38;5;21mdtypes\u001b[39m(\u001b[38;5;28mself\u001b[39m) \u001b[38;5;241m-\u001b[39m\u001b[38;5;241m>\u001b[39m pandas\u001b[38;5;241m.\u001b[39mSeries:\n\u001b[1;32m--> 380\u001b[0m     \u001b[38;5;28;01mreturn\u001b[39;00m \u001b[38;5;28mself\u001b[39m\u001b[38;5;241m.\u001b[39m_modin_frame\u001b[38;5;241m.\u001b[39mdtypes\n",
      "File \u001b[1;32m~\\anaconda3\\Lib\\site-packages\\modin\\core\\dataframe\\pandas\\dataframe\\dataframe.py:424\u001b[0m, in \u001b[0;36mPandasDataframe.dtypes\u001b[1;34m(self)\u001b[0m\n\u001b[0;32m    415\u001b[0m \u001b[38;5;250m\u001b[39m\u001b[38;5;124;03m\"\"\"\u001b[39;00m\n\u001b[0;32m    416\u001b[0m \u001b[38;5;124;03mCompute the data types if they are not cached.\u001b[39;00m\n\u001b[0;32m    417\u001b[0m \n\u001b[1;32m   (...)\u001b[0m\n\u001b[0;32m    421\u001b[0m \u001b[38;5;124;03m    A pandas Series containing the data types for this dataframe.\u001b[39;00m\n\u001b[0;32m    422\u001b[0m \u001b[38;5;124;03m\"\"\"\u001b[39;00m\n\u001b[0;32m    423\u001b[0m \u001b[38;5;28;01mif\u001b[39;00m \u001b[38;5;28mself\u001b[39m\u001b[38;5;241m.\u001b[39mhas_dtypes_cache:\n\u001b[1;32m--> 424\u001b[0m     dtypes \u001b[38;5;241m=\u001b[39m \u001b[38;5;28mself\u001b[39m\u001b[38;5;241m.\u001b[39m_dtypes\u001b[38;5;241m.\u001b[39mget()\n\u001b[0;32m    425\u001b[0m \u001b[38;5;28;01melse\u001b[39;00m:\n\u001b[0;32m    426\u001b[0m     dtypes \u001b[38;5;241m=\u001b[39m \u001b[38;5;28mself\u001b[39m\u001b[38;5;241m.\u001b[39m_compute_dtypes()\n",
      "File \u001b[1;32m~\\anaconda3\\Lib\\site-packages\\modin\\core\\dataframe\\pandas\\metadata\\dtypes.py:924\u001b[0m, in \u001b[0;36mModinDtypes.get\u001b[1;34m(self)\u001b[0m\n\u001b[0;32m    922\u001b[0m \u001b[38;5;28;01mif\u001b[39;00m \u001b[38;5;129;01mnot\u001b[39;00m \u001b[38;5;28mself\u001b[39m\u001b[38;5;241m.\u001b[39mis_materialized:\n\u001b[0;32m    923\u001b[0m     \u001b[38;5;28;01mif\u001b[39;00m \u001b[38;5;28mcallable\u001b[39m(\u001b[38;5;28mself\u001b[39m\u001b[38;5;241m.\u001b[39m_value):\n\u001b[1;32m--> 924\u001b[0m         \u001b[38;5;28mself\u001b[39m\u001b[38;5;241m.\u001b[39m_value \u001b[38;5;241m=\u001b[39m \u001b[38;5;28mself\u001b[39m\u001b[38;5;241m.\u001b[39m_value()\n\u001b[0;32m    925\u001b[0m         \u001b[38;5;28;01mif\u001b[39;00m \u001b[38;5;28mself\u001b[39m\u001b[38;5;241m.\u001b[39m_value \u001b[38;5;129;01mis\u001b[39;00m \u001b[38;5;28;01mNone\u001b[39;00m:\n\u001b[0;32m    926\u001b[0m             \u001b[38;5;28mself\u001b[39m\u001b[38;5;241m.\u001b[39m_value \u001b[38;5;241m=\u001b[39m pandas\u001b[38;5;241m.\u001b[39mSeries([])\n",
      "File \u001b[1;32m~\\anaconda3\\Lib\\site-packages\\modin\\core\\io\\text\\text_file_dispatcher.py:946\u001b[0m, in \u001b[0;36mTextFileDispatcher._get_new_qc.<locals>.<lambda>\u001b[1;34m()\u001b[0m\n\u001b[0;32m    904\u001b[0m \u001b[38;5;250m\u001b[39m\u001b[38;5;124;03m\"\"\"\u001b[39;00m\n\u001b[0;32m    905\u001b[0m \u001b[38;5;124;03mGet new query compiler from data received from workers.\u001b[39;00m\n\u001b[0;32m    906\u001b[0m \n\u001b[1;32m   (...)\u001b[0m\n\u001b[0;32m    934\u001b[0m \u001b[38;5;124;03m    New query compiler, created from `new_frame`.\u001b[39;00m\n\u001b[0;32m    935\u001b[0m \u001b[38;5;124;03m\"\"\"\u001b[39;00m\n\u001b[0;32m    936\u001b[0m partition_ids \u001b[38;5;241m=\u001b[39m \u001b[38;5;28mcls\u001b[39m\u001b[38;5;241m.\u001b[39mbuild_partition(\n\u001b[0;32m    937\u001b[0m     partition_ids, [\u001b[38;5;28;01mNone\u001b[39;00m] \u001b[38;5;241m*\u001b[39m \u001b[38;5;28mlen\u001b[39m(index_ids), column_widths\n\u001b[0;32m    938\u001b[0m )\n\u001b[0;32m    940\u001b[0m new_frame \u001b[38;5;241m=\u001b[39m \u001b[38;5;28mcls\u001b[39m\u001b[38;5;241m.\u001b[39mframe_cls(\n\u001b[0;32m    941\u001b[0m     partition_ids,\n\u001b[0;32m    942\u001b[0m     \u001b[38;5;28;01mlambda\u001b[39;00m: \u001b[38;5;28mcls\u001b[39m\u001b[38;5;241m.\u001b[39m_define_index(index_ids, index_name),\n\u001b[0;32m    943\u001b[0m     column_names,\n\u001b[0;32m    944\u001b[0m     \u001b[38;5;28;01mNone\u001b[39;00m,\n\u001b[0;32m    945\u001b[0m     column_widths,\n\u001b[1;32m--> 946\u001b[0m     dtypes\u001b[38;5;241m=\u001b[39m\u001b[38;5;28;01mlambda\u001b[39;00m: \u001b[38;5;28mcls\u001b[39m\u001b[38;5;241m.\u001b[39mget_dtypes(dtypes_ids, column_names),\n\u001b[0;32m    947\u001b[0m )\n\u001b[0;32m    948\u001b[0m new_query_compiler \u001b[38;5;241m=\u001b[39m \u001b[38;5;28mcls\u001b[39m\u001b[38;5;241m.\u001b[39mquery_compiler_cls(new_frame)\n\u001b[0;32m    949\u001b[0m skipfooter \u001b[38;5;241m=\u001b[39m kwargs\u001b[38;5;241m.\u001b[39mget(\u001b[38;5;124m\"\u001b[39m\u001b[38;5;124mskipfooter\u001b[39m\u001b[38;5;124m\"\u001b[39m, \u001b[38;5;28;01mNone\u001b[39;00m)\n",
      "File \u001b[1;32m~\\anaconda3\\Lib\\site-packages\\modin\\logging\\logger_decorator.py:144\u001b[0m, in \u001b[0;36menable_logging.<locals>.decorator.<locals>.run_and_log\u001b[1;34m(*args, **kwargs)\u001b[0m\n\u001b[0;32m    129\u001b[0m \u001b[38;5;250m\u001b[39m\u001b[38;5;124;03m\"\"\"\u001b[39;00m\n\u001b[0;32m    130\u001b[0m \u001b[38;5;124;03mCompute function with logging if Modin logging is enabled.\u001b[39;00m\n\u001b[0;32m    131\u001b[0m \n\u001b[1;32m   (...)\u001b[0m\n\u001b[0;32m    141\u001b[0m \u001b[38;5;124;03mAny\u001b[39;00m\n\u001b[0;32m    142\u001b[0m \u001b[38;5;124;03m\"\"\"\u001b[39;00m\n\u001b[0;32m    143\u001b[0m \u001b[38;5;28;01mif\u001b[39;00m LogMode\u001b[38;5;241m.\u001b[39mget() \u001b[38;5;241m==\u001b[39m \u001b[38;5;124m\"\u001b[39m\u001b[38;5;124mdisable\u001b[39m\u001b[38;5;124m\"\u001b[39m:\n\u001b[1;32m--> 144\u001b[0m     \u001b[38;5;28;01mreturn\u001b[39;00m obj(\u001b[38;5;241m*\u001b[39margs, \u001b[38;5;241m*\u001b[39m\u001b[38;5;241m*\u001b[39mkwargs)\n\u001b[0;32m    146\u001b[0m logger \u001b[38;5;241m=\u001b[39m get_logger()\n\u001b[0;32m    147\u001b[0m logger\u001b[38;5;241m.\u001b[39mlog(log_level, start_line)\n",
      "File \u001b[1;32m~\\anaconda3\\Lib\\site-packages\\modin\\core\\storage_formats\\pandas\\parsers.py:257\u001b[0m, in \u001b[0;36mPandasParser.get_dtypes\u001b[1;34m(cls, dtypes_ids, columns)\u001b[0m\n\u001b[0;32m    254\u001b[0m     \u001b[38;5;28;01mreturn\u001b[39;00m \u001b[38;5;28;01mNone\u001b[39;00m\n\u001b[0;32m    255\u001b[0m \u001b[38;5;66;03m# each element in `partitions_dtypes` is a Series, where column names are\u001b[39;00m\n\u001b[0;32m    256\u001b[0m \u001b[38;5;66;03m# used as index and types of columns for different partitions are used as values\u001b[39;00m\n\u001b[1;32m--> 257\u001b[0m partitions_dtypes \u001b[38;5;241m=\u001b[39m \u001b[38;5;28mcls\u001b[39m\u001b[38;5;241m.\u001b[39mmaterialize(dtypes_ids)\n\u001b[0;32m    258\u001b[0m \u001b[38;5;28;01mif\u001b[39;00m \u001b[38;5;28mall\u001b[39m([\u001b[38;5;28mlen\u001b[39m(dtype) \u001b[38;5;241m==\u001b[39m \u001b[38;5;241m0\u001b[39m \u001b[38;5;28;01mfor\u001b[39;00m dtype \u001b[38;5;129;01min\u001b[39;00m partitions_dtypes]):\n\u001b[0;32m    259\u001b[0m     \u001b[38;5;28;01mreturn\u001b[39;00m \u001b[38;5;28;01mNone\u001b[39;00m\n",
      "File \u001b[1;32m~\\anaconda3\\Lib\\site-packages\\modin\\core\\execution\\ray\\common\\engine_wrapper.py:139\u001b[0m, in \u001b[0;36mRayWrapper.materialize\u001b[1;34m(cls, obj_id)\u001b[0m\n\u001b[0;32m    136\u001b[0m     \u001b[38;5;28;01mreturn\u001b[39;00m ray\u001b[38;5;241m.\u001b[39mget(obj_id) \u001b[38;5;28;01mif\u001b[39;00m \u001b[38;5;28misinstance\u001b[39m(obj_id, ray\u001b[38;5;241m.\u001b[39mObjectRef) \u001b[38;5;28;01melse\u001b[39;00m obj_id\n\u001b[0;32m    138\u001b[0m \u001b[38;5;28;01mif\u001b[39;00m \u001b[38;5;28mall\u001b[39m(\u001b[38;5;28misinstance\u001b[39m(obj, ray\u001b[38;5;241m.\u001b[39mObjectRef) \u001b[38;5;28;01mfor\u001b[39;00m obj \u001b[38;5;129;01min\u001b[39;00m obj_id):\n\u001b[1;32m--> 139\u001b[0m     \u001b[38;5;28;01mreturn\u001b[39;00m ray\u001b[38;5;241m.\u001b[39mget(obj_id)\n\u001b[0;32m    141\u001b[0m ids \u001b[38;5;241m=\u001b[39m {}\n\u001b[0;32m    142\u001b[0m result \u001b[38;5;241m=\u001b[39m []\n",
      "File \u001b[1;32m~\\anaconda3\\Lib\\site-packages\\ray\\_private\\auto_init_hook.py:21\u001b[0m, in \u001b[0;36mwrap_auto_init.<locals>.auto_init_wrapper\u001b[1;34m(*args, **kwargs)\u001b[0m\n\u001b[0;32m     18\u001b[0m \u001b[38;5;129m@wraps\u001b[39m(fn)\n\u001b[0;32m     19\u001b[0m \u001b[38;5;28;01mdef\u001b[39;00m \u001b[38;5;21mauto_init_wrapper\u001b[39m(\u001b[38;5;241m*\u001b[39margs, \u001b[38;5;241m*\u001b[39m\u001b[38;5;241m*\u001b[39mkwargs):\n\u001b[0;32m     20\u001b[0m     auto_init_ray()\n\u001b[1;32m---> 21\u001b[0m     \u001b[38;5;28;01mreturn\u001b[39;00m fn(\u001b[38;5;241m*\u001b[39margs, \u001b[38;5;241m*\u001b[39m\u001b[38;5;241m*\u001b[39mkwargs)\n",
      "File \u001b[1;32m~\\anaconda3\\Lib\\site-packages\\ray\\_private\\client_mode_hook.py:103\u001b[0m, in \u001b[0;36mclient_mode_hook.<locals>.wrapper\u001b[1;34m(*args, **kwargs)\u001b[0m\n\u001b[0;32m    101\u001b[0m     \u001b[38;5;28;01mif\u001b[39;00m func\u001b[38;5;241m.\u001b[39m\u001b[38;5;18m__name__\u001b[39m \u001b[38;5;241m!=\u001b[39m \u001b[38;5;124m\"\u001b[39m\u001b[38;5;124minit\u001b[39m\u001b[38;5;124m\"\u001b[39m \u001b[38;5;129;01mor\u001b[39;00m is_client_mode_enabled_by_default:\n\u001b[0;32m    102\u001b[0m         \u001b[38;5;28;01mreturn\u001b[39;00m \u001b[38;5;28mgetattr\u001b[39m(ray, func\u001b[38;5;241m.\u001b[39m\u001b[38;5;18m__name__\u001b[39m)(\u001b[38;5;241m*\u001b[39margs, \u001b[38;5;241m*\u001b[39m\u001b[38;5;241m*\u001b[39mkwargs)\n\u001b[1;32m--> 103\u001b[0m \u001b[38;5;28;01mreturn\u001b[39;00m func(\u001b[38;5;241m*\u001b[39margs, \u001b[38;5;241m*\u001b[39m\u001b[38;5;241m*\u001b[39mkwargs)\n",
      "File \u001b[1;32m~\\anaconda3\\Lib\\site-packages\\ray\\_private\\worker.py:2755\u001b[0m, in \u001b[0;36mget\u001b[1;34m(object_refs, timeout)\u001b[0m\n\u001b[0;32m   2749\u001b[0m     \u001b[38;5;28;01mraise\u001b[39;00m \u001b[38;5;167;01mValueError\u001b[39;00m(\n\u001b[0;32m   2750\u001b[0m         \u001b[38;5;124mf\u001b[39m\u001b[38;5;124m\"\u001b[39m\u001b[38;5;124mInvalid type of object refs, \u001b[39m\u001b[38;5;132;01m{\u001b[39;00m\u001b[38;5;28mtype\u001b[39m(object_refs)\u001b[38;5;132;01m}\u001b[39;00m\u001b[38;5;124m, is given. \u001b[39m\u001b[38;5;124m\"\u001b[39m\n\u001b[0;32m   2751\u001b[0m         \u001b[38;5;124m\"\u001b[39m\u001b[38;5;124m'\u001b[39m\u001b[38;5;124mobject_refs\u001b[39m\u001b[38;5;124m'\u001b[39m\u001b[38;5;124m must either be an ObjectRef or a list of ObjectRefs. \u001b[39m\u001b[38;5;124m\"\u001b[39m\n\u001b[0;32m   2752\u001b[0m     )\n\u001b[0;32m   2754\u001b[0m \u001b[38;5;66;03m# TODO(ujvl): Consider how to allow user to retrieve the ready objects.\u001b[39;00m\n\u001b[1;32m-> 2755\u001b[0m values, debugger_breakpoint \u001b[38;5;241m=\u001b[39m worker\u001b[38;5;241m.\u001b[39mget_objects(object_refs, timeout\u001b[38;5;241m=\u001b[39mtimeout)\n\u001b[0;32m   2756\u001b[0m \u001b[38;5;28;01mfor\u001b[39;00m i, value \u001b[38;5;129;01min\u001b[39;00m \u001b[38;5;28menumerate\u001b[39m(values):\n\u001b[0;32m   2757\u001b[0m     \u001b[38;5;28;01mif\u001b[39;00m \u001b[38;5;28misinstance\u001b[39m(value, RayError):\n",
      "File \u001b[1;32m~\\anaconda3\\Lib\\site-packages\\ray\\_private\\worker.py:906\u001b[0m, in \u001b[0;36mWorker.get_objects\u001b[1;34m(self, object_refs, timeout, return_exceptions)\u001b[0m\n\u001b[0;32m    904\u001b[0m     global_worker\u001b[38;5;241m.\u001b[39mcore_worker\u001b[38;5;241m.\u001b[39mdump_object_store_memory_usage()\n\u001b[0;32m    905\u001b[0m \u001b[38;5;28;01mif\u001b[39;00m \u001b[38;5;28misinstance\u001b[39m(value, RayTaskError):\n\u001b[1;32m--> 906\u001b[0m     \u001b[38;5;28;01mraise\u001b[39;00m value\u001b[38;5;241m.\u001b[39mas_instanceof_cause()\n\u001b[0;32m    907\u001b[0m \u001b[38;5;28;01melse\u001b[39;00m:\n\u001b[0;32m    908\u001b[0m     \u001b[38;5;28;01mraise\u001b[39;00m value\n",
      "\u001b[1;31mRayTaskError(MemoryError)\u001b[0m: \u001b[36mray::_deploy_ray_func()\u001b[39m (pid=22816, ip=127.0.0.1)\n  File \"python\\ray\\_raylet.pyx\", line 1879, in ray._raylet.execute_task\n  File \"C:\\Users\\bless\\anaconda3\\Lib\\site-packages\\modin\\core\\execution\\ray\\common\\engine_wrapper.py\", line 53, in _deploy_ray_func\n    result = func(*args, **kwargs)\n             ^^^^^^^^^^^^^^^^^^^^^\n  File \"C:\\Users\\bless\\anaconda3\\Lib\\site-packages\\modin\\logging\\logger_decorator.py\", line 144, in run_and_log\n    return obj(*args, **kwargs)\n           ^^^^^^^^^^^^^^^^^^^^\n  File \"C:\\Users\\bless\\anaconda3\\Lib\\site-packages\\modin\\core\\storage_formats\\pandas\\parsers.py\", line 362, in parse\n    return PandasParser.generic_parse(\n           ^^^^^^^^^^^^^^^^^^^^^^^^^^^\n  File \"C:\\Users\\bless\\anaconda3\\Lib\\site-packages\\modin\\logging\\logger_decorator.py\", line 144, in run_and_log\n    return obj(*args, **kwargs)\n           ^^^^^^^^^^^^^^^^^^^^\n  File \"C:\\Users\\bless\\anaconda3\\Lib\\site-packages\\modin\\core\\storage_formats\\pandas\\parsers.py\", line 222, in generic_parse\n    pandas_df = callback(BytesIO(to_read), **kwargs)\n                ^^^^^^^^^^^^^^^^^^^^^^^^^^^^^^^^^^^^\n  File \"C:\\Users\\bless\\anaconda3\\Lib\\site-packages\\modin\\logging\\logger_decorator.py\", line 144, in run_and_log\n    return obj(*args, **kwargs)\n           ^^^^^^^^^^^^^^^^^^^^\n  File \"C:\\Users\\bless\\anaconda3\\Lib\\site-packages\\modin\\core\\storage_formats\\pandas\\parsers.py\", line 386, in read_callback\n    return pandas.read_csv(*args, **kwargs)\n           ^^^^^^^^^^^^^^^^^^^^^^^^^^^^^^^^\n  File \"C:\\Users\\bless\\anaconda3\\Lib\\site-packages\\pandas\\io\\parsers\\readers.py\", line 1026, in read_csv\n    return _read(filepath_or_buffer, kwds)\n           ^^^^^^^^^^^^^^^^^^^^^^^^^^^^^^^\n  File \"C:\\Users\\bless\\anaconda3\\Lib\\site-packages\\pandas\\io\\parsers\\readers.py\", line 626, in _read\n    return parser.read(nrows)\n           ^^^^^^^^^^^^^^^^^^\n  File \"C:\\Users\\bless\\anaconda3\\Lib\\site-packages\\pandas\\io\\parsers\\readers.py\", line 1968, in read\n    df = DataFrame(\n         ^^^^^^^^^^\n  File \"C:\\Users\\bless\\anaconda3\\Lib\\site-packages\\pandas\\core\\frame.py\", line 778, in __init__\n    mgr = dict_to_mgr(data, index, columns, dtype=dtype, copy=copy, typ=manager)\n          ^^^^^^^^^^^^^^^^^^^^^^^^^^^^^^^^^^^^^^^^^^^^^^^^^^^^^^^^^^^^^^^^^^^^^^\n  File \"C:\\Users\\bless\\anaconda3\\Lib\\site-packages\\pandas\\core\\internals\\construction.py\", line 503, in dict_to_mgr\n    return arrays_to_mgr(arrays, columns, index, dtype=dtype, typ=typ, consolidate=copy)\n           ^^^^^^^^^^^^^^^^^^^^^^^^^^^^^^^^^^^^^^^^^^^^^^^^^^^^^^^^^^^^^^^^^^^^^^^^^^^^^\n  File \"C:\\Users\\bless\\anaconda3\\Lib\\site-packages\\pandas\\core\\internals\\construction.py\", line 152, in arrays_to_mgr\n    return create_block_manager_from_column_arrays(\n           ^^^^^^^^^^^^^^^^^^^^^^^^^^^^^^^^^^^^^^^^\n  File \"C:\\Users\\bless\\anaconda3\\Lib\\site-packages\\pandas\\core\\internals\\managers.py\", line 2139, in create_block_manager_from_column_arrays\n    blocks = _form_blocks(arrays, consolidate, refs)\n             ^^^^^^^^^^^^^^^^^^^^^^^^^^^^^^^^^^^^^^^\n  File \"C:\\Users\\bless\\anaconda3\\Lib\\site-packages\\pandas\\core\\internals\\managers.py\", line 2212, in _form_blocks\n    values, placement = _stack_arrays(list(tup_block), dtype)\n                        ^^^^^^^^^^^^^^^^^^^^^^^^^^^^^^^^^^^^^\n  File \"C:\\Users\\bless\\anaconda3\\Lib\\site-packages\\pandas\\core\\internals\\managers.py\", line 2252, in _stack_arrays\n    stacked = np.empty(shape, dtype=dtype)\n              ^^^^^^^^^^^^^^^^^^^^^^^^^^^^\nnumpy.core._exceptions._ArrayMemoryError: Unable to allocate 5.46 MiB for an array with shape (1, 715735) and data type int64"
     ]
    }
   ],
   "source": [
    "file_path = r\"C:\\Users\\bless\\Downloads\\archive (2)\\cleaned_data.csv\"\n",
    "\n",
    "# Method 1: Pandas\n",
    "start_time = time.time()\n",
    "df_pandas = pd.read_csv(file_path)\n",
    "end_time = time.time()\n",
    "time_pandas = end_time - start_time\n",
    "print(\"Time taken by Pandas:\", time_pandas, \"seconds\")\n",
    "\n",
    "# Method 2: Dask\n",
    "start_time = time.time()\n",
    "df_dask = dd.read_csv(file_path)\n",
    "df_dask.compute()\n",
    "end_time = time.time()\n",
    "time_dask = end_time - start_time\n",
    "print(\"Time taken by Dask:\", time_dask, \"seconds\")\n",
    "\n",
    "# Method 3: Modin\n",
    "start_time = time.time()\n",
    "df_modin = mpd.read_csv(file_path)\n",
    "end_time = time.time()\n",
    "time_modin = end_time - start_time\n",
    "print(\"Time taken by Modin:\", time_modin, \"seconds\")\n"
   ]
  },
  {
   "cell_type": "code",
   "execution_count": 4,
   "id": "11be2c18",
   "metadata": {},
   "outputs": [
    {
     "name": "stderr",
     "output_type": "stream",
     "text": [
      "UserWarning: Defaulting to pandas implementation.\n",
      "Please refer to https://modin.readthedocs.io/en/stable/supported_apis/defaulting_to_pandas.html for explanation.\n",
      "Reason: `chunksize` parameter is not supported\n"
     ]
    }
   ],
   "source": []
  },
  {
   "cell_type": "code",
   "execution_count": 6,
   "id": "8efb7e37",
   "metadata": {},
   "outputs": [
    {
     "name": "stdout",
     "output_type": "stream",
     "text": [
      "Missing values per column:\n",
      " ride_id                    0\n",
      "rideable_type              0\n",
      "started_at                 0\n",
      "ended_at                   0\n",
      "start_station_name    875317\n",
      "start_station_id      875449\n",
      "end_station_name      928607\n",
      "end_station_id        928748\n",
      "start_lat                  0\n",
      "start_lng                  0\n",
      "end_lat                 6990\n",
      "end_lng                 6990\n",
      "member_casual              0\n",
      "ride_duration              0\n",
      "weekday                    0\n",
      "ride_duration_hms          0\n",
      "ride_hour                  0\n",
      "month                      0\n",
      "dtype: int64\n",
      "Number of duplicate rows: 0\n",
      "Columns in the file:\n",
      " ['ride_id', 'rideable_type', 'started_at', 'ended_at', 'start_station_name', 'start_station_id', 'end_station_name', 'end_station_id', 'start_lat', 'start_lng', 'end_lat', 'end_lng', 'member_casual', 'ride_duration', 'weekday', 'ride_duration_hms', 'ride_hour', 'month']\n"
     ]
    }
   ],
   "source": [
    "# Clean column names: remove special characters and whitespaces\n",
    "df_pandas.columns = (\n",
    "    df_pandas.columns.str.replace('[^a-zA-Z0-9]+', '_', regex=True)\n",
    "                      .str.strip()\n",
    "                      .str.lower()\n",
    ")\n",
    "\n",
    "# Check for missing values\n",
    "missing_values = df_pandas.isnull().sum()\n",
    "print(\"Missing values per column:\\n\", missing_values)\n",
    "\n",
    "# Check for duplicates\n",
    "duplicates = df_pandas[df_pandas.duplicated()]\n",
    "print(f\"Number of duplicate rows: {len(duplicates)}\")\n",
    "\n",
    "# Get all columns and print them\n",
    "all_cols = df_pandas.columns.tolist()\n",
    "print(\"Columns in the file:\\n\", all_cols)\n",
    "\n"
   ]
  },
  {
   "cell_type": "code",
   "execution_count": 7,
   "id": "834df4ed",
   "metadata": {},
   "outputs": [
    {
     "name": "stdout",
     "output_type": "stream",
     "text": [
      "Schema file created at: C:\\Users\\bless\\Downloads\\archive (2)\\schema.yaml\n"
     ]
    }
   ],
   "source": [
    "# Define schema\n",
    "schema = {\n",
    "    'columns': all_cols\n",
    "}\n",
    "\n",
    "# Save the schema as a YAML file\n",
    "yaml_path = r\"C:\\Users\\bless\\Downloads\\archive (2)\\schema.yaml\"\n",
    "with open(yaml_path, 'w') as f:\n",
    "    yaml.dump(schema, f)\n",
    "\n",
    "print(\"Schema file created at:\", yaml_path)\n"
   ]
  },
  {
   "cell_type": "code",
   "execution_count": 8,
   "id": "7cb6d9db",
   "metadata": {},
   "outputs": [
    {
     "name": "stdout",
     "output_type": "stream",
     "text": [
      "Validation successful!\n"
     ]
    }
   ],
   "source": [
    "# Load schema from YAML\n",
    "with open(yaml_path, 'r') as f:\n",
    "    schema = yaml.safe_load(f)\n",
    "\n",
    "# Validate the columns\n",
    "if 'columns' not in schema:\n",
    "    print(\"Error: Invalid schema file. 'columns' key is missing.\")\n",
    "elif not isinstance(schema['columns'], list):\n",
    "    print(\"Error: Invalid schema file. 'columns' value should be a list.\")\n",
    "else:\n",
    "    if len(df_pandas.columns) != len(schema['columns']):\n",
    "        print(\"Error: Number of columns in the file doesn't match the schema.\")\n",
    "    else:\n",
    "        for i, col in enumerate(df_pandas.columns):\n",
    "            if col != schema['columns'][i]:\n",
    "                print(f\"Error: Column {i+1} doesn't match the schema.\")\n",
    "print(\"Validation successful!\")\n"
   ]
  },
  {
   "cell_type": "code",
   "execution_count": 9,
   "id": "f423df6e",
   "metadata": {},
   "outputs": [
    {
     "name": "stdout",
     "output_type": "stream",
     "text": [
      "File written to: C:\\Users\\bless\\Downloads\\archive (2)\\output_file.csv.gz\n"
     ]
    }
   ],
   "source": [
    "# Subset for smaller data processing\n",
    "subset_df = df_pandas.iloc[:1000]  # Using first 1000 rows for efficiency\n",
    "\n",
    "# Save to GZipped file\n",
    "output_file = r\"C:\\Users\\bless\\Downloads\\archive (2)\\output_file.csv.gz\"\n",
    "subset_df.to_csv(output_file, sep='|', compression='gzip', index=False)\n",
    "print(\"File written to:\", output_file)\n"
   ]
  },
  {
   "cell_type": "code",
   "execution_count": 10,
   "id": "3bee2c8c",
   "metadata": {},
   "outputs": [
    {
     "name": "stdout",
     "output_type": "stream",
     "text": [
      "Total number of rows: 5718608\n",
      "Total number of columns: 18\n",
      "File size: 44880 bytes\n"
     ]
    }
   ],
   "source": [
    "# Get the file size\n",
    "file_size = os.path.getsize(output_file)\n",
    "\n",
    "# Total rows and columns\n",
    "num_rows = len(df_pandas)\n",
    "num_cols = len(df_pandas.columns)\n",
    "\n",
    "# Print summary\n",
    "print(f\"Total number of rows: {num_rows}\")\n",
    "print(f\"Total number of columns: {num_cols}\")\n",
    "print(f\"File size: {file_size} bytes\")\n"
   ]
  },
  {
   "cell_type": "code",
   "execution_count": null,
   "id": "300bf395",
   "metadata": {},
   "outputs": [],
   "source": []
  }
 ],
 "metadata": {
  "kernelspec": {
   "display_name": "Python 3 (ipykernel)",
   "language": "python",
   "name": "python3"
  },
  "language_info": {
   "codemirror_mode": {
    "name": "ipython",
    "version": 3
   },
   "file_extension": ".py",
   "mimetype": "text/x-python",
   "name": "python",
   "nbconvert_exporter": "python",
   "pygments_lexer": "ipython3",
   "version": "3.11.5"
  }
 },
 "nbformat": 4,
 "nbformat_minor": 5
}
